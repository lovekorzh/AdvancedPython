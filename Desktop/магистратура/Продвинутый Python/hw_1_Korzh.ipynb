{
 "cells": [
  {
   "cell_type": "markdown",
   "metadata": {},
   "source": [
    "# \"Продвинутый Python\". Магистерская программа ВШЭ."
   ]
  },
  {
   "cell_type": "markdown",
   "metadata": {},
   "source": [
    "## *Выполнила Корж Любовь*"
   ]
  },
  {
   "cell_type": "markdown",
   "metadata": {},
   "source": [
    "### Домашнее задание №0 [0.2 балла]"
   ]
  },
  {
   "cell_type": "markdown",
   "metadata": {},
   "source": [
    "**Условие**:\n",
    "\n",
    "Функция `delete_zeros_from_array` принимает на вход массив целых чисел из промежутка [0; 5] и удалает из него все _нули_. Алгоритм должен иметь сложность `O(N)`, где N - длина массива, и использовать `O(1)` дополнительной памяти.\n",
    "\n",
    "Построить **графики** зависимости времени работы алгоритма от количества элементов в нем. \n",
    "\n",
    "**Примечания**:\n",
    "\n",
    "1) Для наглядности лучше генерить массивы, в которых количество удаляемых элементов **больше трети** от всех элементов.\n",
    "\n",
    "2) В такой постановке можно проверить, как разработчик выбирает имена переменных и думает ли о функции глобально. Например, следующим вопросом было бы \"А что если хотим удалять единицы?\""
   ]
  },
  {
   "cell_type": "code",
   "execution_count": 58,
   "metadata": {},
   "outputs": [],
   "source": [
    "from functools import partial\n",
    "import random\n",
    "import time\n",
    "from tqdm import tqdm\n",
    "import matplotlib.pyplot as plt"
   ]
  },
  {
   "cell_type": "code",
   "execution_count": 59,
   "metadata": {},
   "outputs": [],
   "source": [
    "def delete_elements_from_array(array, element):\n",
    "    \"\"\"\n",
    "        This function deletes all elements that equal to element from array. \n",
    "        \n",
    "        :param array: Input array\n",
    "        :type array: list\n",
    "        :param element: Element that must be deleted from array\n",
    "        :type element: int\n",
    "        \n",
    "        :returns: New array without element with the other elements in the same order\n",
    "        :rtype: list\n",
    "    \"\"\"\n",
    "    index = -1\n",
    "    for i in range(len(array)):\n",
    "        if index == -1 and array[i] == element:\n",
    "            index = i\n",
    "        elif index != -1 and array[i] != element:\n",
    "            array[index], array[i] = array[i], array[index]\n",
    "            index += 1\n",
    "    return array[:index] \n",
    "    \n",
    "delete_zeros_from_array = partial(delete_elements_from_array, element=0)"
   ]
  },
  {
   "cell_type": "code",
   "execution_count": 70,
   "metadata": {
    "scrolled": true
   },
   "outputs": [
    {
     "data": {
      "text/plain": [
       "[2, 2, 2, 2, 5, 3, 5]"
      ]
     },
     "execution_count": 70,
     "metadata": {},
     "output_type": "execute_result"
    }
   ],
   "source": [
    "delete_zeros_from_array([2, 2, 0, 2, 0, 0, 2, 0, 5, 3, 5, 0, 0, 0, 0])"
   ]
  },
  {
   "cell_type": "code",
   "execution_count": 88,
   "metadata": {
    "scrolled": false
   },
   "outputs": [
    {
     "name": "stderr",
     "output_type": "stream",
     "text": [
      "100%|██████████| 100/100 [00:00<00:00, 42934.83it/s]\n",
      "100%|██████████| 100/100 [00:00<00:00, 69212.94it/s]\n",
      "100%|██████████| 100/100 [00:00<00:00, 26910.71it/s]\n",
      "100%|██████████| 100/100 [00:00<00:00, 25187.99it/s]\n",
      "100%|██████████| 100/100 [00:00<00:00, 16561.26it/s]\n",
      "100%|██████████| 100/100 [00:00<00:00, 8732.13it/s]\n",
      "100%|██████████| 100/100 [00:00<00:00, 4735.69it/s]\n",
      "100%|██████████| 100/100 [00:00<00:00, 3031.95it/s]\n",
      "100%|██████████| 100/100 [00:00<00:00, 1614.29it/s]\n",
      "100%|██████████| 100/100 [00:00<00:00, 827.15it/s]\n",
      "100%|██████████| 100/100 [00:00<00:00, 416.26it/s]\n",
      "100%|██████████| 100/100 [00:00<00:00, 180.52it/s]\n",
      "100%|██████████| 100/100 [00:00<00:00, 108.56it/s]\n",
      "100%|██████████| 100/100 [00:01<00:00, 55.45it/s]\n",
      "100%|██████████| 100/100 [00:03<00:00, 25.41it/s]\n"
     ]
    },
    {
     "data": {
      "image/png": "[encoded data removed]",
      "text/plain": [
       "<Figure size 432x288 with 1 Axes>"
      ]
     },
     "metadata": {},
     "output_type": "display_data"
    }
   ],
   "source": [
    "N = 100\n",
    "import collections\n",
    "times = collections.defaultdict(float)\n",
    "\n",
    "for n in range(15):\n",
    "    t = 2**n\n",
    "\n",
    "    for i in tqdm(range(N)):\n",
    "        arr_rand = [random.randint(1, 5) for _ in range(t - t // 3 - 1)]\n",
    "        arr = [0] * (t // 3 + 1) + arr_rand\n",
    "        random.shuffle(arr)\n",
    "        start = time.time()\n",
    "        delete_zeros_from_array(arr)\n",
    "        end = time.time()\n",
    "        times[t] += (end - start) / N\n",
    "\n",
    "x = [i[0] for i in times.items()]\n",
    "y = [i[1] for i in times.items()]\n",
    "fig, ax = plt.subplots(figsize=(6, 4))\n",
    "ax.set(ylabel='time spent', xlabel='length of list')\n",
    "plt.plot(x, y);"
   ]
  },
  {
   "cell_type": "markdown",
   "metadata": {},
   "source": [
    "Время выполнения линейно зависит от размера списка"
   ]
  },
  {
   "cell_type": "markdown",
   "metadata": {},
   "source": [
    "### Домашнее задание №1 [0.05 балла]\n",
    "\n",
    "**Условие**:\n",
    "\n",
    "Написать функцию (-и), которая принимает на вход 3 комплексных числа и выводит минимальное из них по модулю без использования функций min, max, sort и т.д.\n",
    "\n",
    "\n",
    "**Комментарии**:\n",
    "\n",
    "1) В процессе сдачи задания, можно будет получить дополнительные баллы\n",
    "\n",
    "2) Код должен быть пригоден для промышленного использования"
   ]
  },
  {
   "cell_type": "code",
   "execution_count": 96,
   "metadata": {},
   "outputs": [],
   "source": [
    "def min_of_3_complex_numbers(c1, c2, c3):\n",
    "    c_1, c_2, c_3 = abs(c1), abs(c2), abs(c3)\n",
    "    if c_1 < c_2 and c_1 < c_3:\n",
    "        return c1\n",
    "    elif c_2 <= c_1 and c_2 < c_3:\n",
    "        return c2\n",
    "    else:\n",
    "        return c3"
   ]
  },
  {
   "cell_type": "code",
   "execution_count": 102,
   "metadata": {},
   "outputs": [
    {
     "data": {
      "text/plain": [
       "(5-3j)"
      ]
     },
     "execution_count": 102,
     "metadata": {},
     "output_type": "execute_result"
    }
   ],
   "source": [
    "min_of_3_complex_numbers(5 + 6j, 5 - 3j, -5 - 5j)"
   ]
  },
  {
   "cell_type": "code",
   "execution_count": null,
   "metadata": {},
   "outputs": [],
   "source": []
  }
 ],
 "metadata": {
  "kernelspec": {
   "display_name": "Python 3",
   "language": "python",
   "name": "python3"
  },
  "language_info": {
   "codemirror_mode": {
    "name": "ipython",
    "version": 3
   },
   "file_extension": ".py",
   "mimetype": "text/x-python",
   "name": "python",
   "nbconvert_exporter": "python",
   "pygments_lexer": "ipython3",
   "version": "3.6.5"
  }
 },
 "nbformat": 4,
 "nbformat_minor": 2
}
